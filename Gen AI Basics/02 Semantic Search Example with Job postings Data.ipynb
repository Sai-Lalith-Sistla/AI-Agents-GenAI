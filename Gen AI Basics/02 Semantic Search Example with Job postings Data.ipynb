{
  "cells": [
    {
      "cell_type": "code",
      "execution_count": 31,
      "metadata": {
        "id": "LvSgGmom93wG"
      },
      "outputs": [
        {
          "name": "stdout",
          "output_type": "stream",
          "text": [
            "Requirement already satisfied: sentence-transformers in c:\\users\\saila\\appdata\\local\\programs\\python\\python310\\lib\\site-packages (4.1.0)\n",
            "Requirement already satisfied: transformers<5.0.0,>=4.41.0 in c:\\users\\saila\\appdata\\local\\programs\\python\\python310\\lib\\site-packages (from sentence-transformers) (4.52.4)\n",
            "Requirement already satisfied: tqdm in c:\\users\\saila\\appdata\\local\\programs\\python\\python310\\lib\\site-packages (from sentence-transformers) (4.66.1)\n",
            "Requirement already satisfied: torch>=1.11.0 in c:\\users\\saila\\appdata\\local\\programs\\python\\python310\\lib\\site-packages (from sentence-transformers) (2.5.1+cu124)\n",
            "Requirement already satisfied: scikit-learn in c:\\users\\saila\\appdata\\local\\programs\\python\\python310\\lib\\site-packages (from sentence-transformers) (1.5.2)\n",
            "Requirement already satisfied: scipy in c:\\users\\saila\\appdata\\local\\programs\\python\\python310\\lib\\site-packages (from sentence-transformers) (1.11.3)\n",
            "Requirement already satisfied: huggingface-hub>=0.20.0 in c:\\users\\saila\\appdata\\local\\programs\\python\\python310\\lib\\site-packages (from sentence-transformers) (0.32.3)\n",
            "Requirement already satisfied: Pillow in c:\\users\\saila\\appdata\\local\\programs\\python\\python310\\lib\\site-packages (from sentence-transformers) (10.3.0)\n",
            "Requirement already satisfied: typing_extensions>=4.5.0 in c:\\users\\saila\\appdata\\local\\programs\\python\\python310\\lib\\site-packages (from sentence-transformers) (4.13.0)\n",
            "Requirement already satisfied: filelock in c:\\users\\saila\\appdata\\local\\programs\\python\\python310\\lib\\site-packages (from huggingface-hub>=0.20.0->sentence-transformers) (3.13.1)\n",
            "Requirement already satisfied: fsspec>=2023.5.0 in c:\\users\\saila\\appdata\\local\\programs\\python\\python310\\lib\\site-packages (from huggingface-hub>=0.20.0->sentence-transformers) (2023.9.0)\n",
            "Requirement already satisfied: packaging>=20.9 in c:\\users\\saila\\appdata\\local\\programs\\python\\python310\\lib\\site-packages (from huggingface-hub>=0.20.0->sentence-transformers) (23.1)\n",
            "Requirement already satisfied: pyyaml>=5.1 in c:\\users\\saila\\appdata\\local\\programs\\python\\python310\\lib\\site-packages (from huggingface-hub>=0.20.0->sentence-transformers) (6.0)\n",
            "Requirement already satisfied: requests in c:\\users\\saila\\appdata\\local\\programs\\python\\python310\\lib\\site-packages (from huggingface-hub>=0.20.0->sentence-transformers) (2.32.3)\n",
            "Requirement already satisfied: networkx in c:\\users\\saila\\appdata\\local\\programs\\python\\python310\\lib\\site-packages (from torch>=1.11.0->sentence-transformers) (3.2.1)\n",
            "Requirement already satisfied: jinja2 in c:\\users\\saila\\appdata\\local\\programs\\python\\python310\\lib\\site-packages (from torch>=1.11.0->sentence-transformers) (3.1.6)\n",
            "Requirement already satisfied: sympy==1.13.1 in c:\\users\\saila\\appdata\\local\\programs\\python\\python310\\lib\\site-packages (from torch>=1.11.0->sentence-transformers) (1.13.1)\n",
            "Requirement already satisfied: mpmath<1.4,>=1.1.0 in c:\\users\\saila\\appdata\\local\\programs\\python\\python310\\lib\\site-packages (from sympy==1.13.1->torch>=1.11.0->sentence-transformers) (1.3.0)\n",
            "Requirement already satisfied: colorama in c:\\users\\saila\\appdata\\local\\programs\\python\\python310\\lib\\site-packages (from tqdm->sentence-transformers) (0.4.6)\n",
            "Requirement already satisfied: numpy>=1.17 in c:\\users\\saila\\appdata\\roaming\\python\\python310\\site-packages (from transformers<5.0.0,>=4.41.0->sentence-transformers) (1.26.4)\n",
            "Requirement already satisfied: regex!=2019.12.17 in c:\\users\\saila\\appdata\\local\\programs\\python\\python310\\lib\\site-packages (from transformers<5.0.0,>=4.41.0->sentence-transformers) (2023.8.8)\n",
            "Requirement already satisfied: tokenizers<0.22,>=0.21 in c:\\users\\saila\\appdata\\local\\programs\\python\\python310\\lib\\site-packages (from transformers<5.0.0,>=4.41.0->sentence-transformers) (0.21.1)\n",
            "Requirement already satisfied: safetensors>=0.4.3 in c:\\users\\saila\\appdata\\local\\programs\\python\\python310\\lib\\site-packages (from transformers<5.0.0,>=4.41.0->sentence-transformers) (0.5.3)\n",
            "Requirement already satisfied: joblib>=1.2.0 in c:\\users\\saila\\appdata\\local\\programs\\python\\python310\\lib\\site-packages (from scikit-learn->sentence-transformers) (1.3.2)\n",
            "Requirement already satisfied: threadpoolctl>=3.1.0 in c:\\users\\saila\\appdata\\local\\programs\\python\\python310\\lib\\site-packages (from scikit-learn->sentence-transformers) (3.2.0)\n",
            "Requirement already satisfied: MarkupSafe>=2.0 in c:\\users\\saila\\appdata\\local\\programs\\python\\python310\\lib\\site-packages (from jinja2->torch>=1.11.0->sentence-transformers) (2.1.3)\n",
            "Requirement already satisfied: charset-normalizer<4,>=2 in c:\\users\\saila\\appdata\\local\\programs\\python\\python310\\lib\\site-packages (from requests->huggingface-hub>=0.20.0->sentence-transformers) (3.4.1)\n",
            "Requirement already satisfied: idna<4,>=2.5 in c:\\users\\saila\\appdata\\local\\programs\\python\\python310\\lib\\site-packages (from requests->huggingface-hub>=0.20.0->sentence-transformers) (3.4)\n",
            "Requirement already satisfied: urllib3<3,>=1.21.1 in c:\\users\\saila\\appdata\\local\\programs\\python\\python310\\lib\\site-packages (from requests->huggingface-hub>=0.20.0->sentence-transformers) (2.3.0)\n",
            "Requirement already satisfied: certifi>=2017.4.17 in c:\\users\\saila\\appdata\\local\\programs\\python\\python310\\lib\\site-packages (from requests->huggingface-hub>=0.20.0->sentence-transformers) (2025.1.31)\n"
          ]
        },
        {
          "name": "stderr",
          "output_type": "stream",
          "text": [
            "WARNING: Ignoring invalid distribution -umpy (c:\\users\\saila\\appdata\\local\\programs\\python\\python310\\lib\\site-packages)\n",
            "WARNING: Ignoring invalid distribution -umpy (c:\\users\\saila\\appdata\\local\\programs\\python\\python310\\lib\\site-packages)\n",
            "WARNING: Ignoring invalid distribution -umpy (c:\\users\\saila\\appdata\\local\\programs\\python\\python310\\lib\\site-packages)\n",
            "\n",
            "[notice] A new release of pip is available: 24.3.1 -> 25.1.1\n",
            "[notice] To update, run: python.exe -m pip install --upgrade pip\n"
          ]
        }
      ],
      "source": [
        "!pip install sentence-transformers"
      ]
    },
    {
      "cell_type": "code",
      "execution_count": 32,
      "metadata": {
        "id": "iIeGnGjHjXXX"
      },
      "outputs": [],
      "source": [
        "import pandas as pd\n",
        "import sentence_transformers\n",
        "from sentence_transformers import SentenceTransformer, util"
      ]
    },
    {
      "cell_type": "code",
      "execution_count": 33,
      "metadata": {
        "colab": {
          "base_uri": "https://localhost:8080/"
        },
        "id": "5SCq2PEmmWZi",
        "outputId": "7a2aee8c-5ceb-4947-8ea6-47f1edfbb8ea"
      },
      "outputs": [],
      "source": [
        "# # Code to use if on colab\n",
        "\n",
        "# from google.colab import drive\n",
        "# drive.mount('/content/drive')\n",
        "\n",
        "# # Define your input path. Change as per your exact path\n",
        "# input_path = '/content/drive/My Drive/HelpMate AI Codes/Your Path Here/'"
      ]
    },
    {
      "cell_type": "code",
      "execution_count": 34,
      "metadata": {
        "id": "V-tD-YFRmXHt"
      },
      "outputs": [],
      "source": [
        "#Code for local\n",
        "\n",
        "# Define your input path. Change as per your exact path\n",
        "\n",
        "input_path = './'"
      ]
    },
    {
      "cell_type": "code",
      "execution_count": 35,
      "metadata": {
        "id": "1_eRPSU1mOnm"
      },
      "outputs": [],
      "source": [
        "# Read the job postings csv\n",
        "\n",
        "job_postings = pd.read_csv(input_path + 'job_postings.csv')"
      ]
    },
    {
      "cell_type": "code",
      "execution_count": 36,
      "metadata": {
        "id": "50MhRvLx-Y21"
      },
      "outputs": [
        {
          "data": {
            "text/html": [
              "<div>\n",
              "<style scoped>\n",
              "    .dataframe tbody tr th:only-of-type {\n",
              "        vertical-align: middle;\n",
              "    }\n",
              "\n",
              "    .dataframe tbody tr th {\n",
              "        vertical-align: top;\n",
              "    }\n",
              "\n",
              "    .dataframe thead th {\n",
              "        text-align: right;\n",
              "    }\n",
              "</style>\n",
              "<table border=\"1\" class=\"dataframe\">\n",
              "  <thead>\n",
              "    <tr style=\"text-align: right;\">\n",
              "      <th></th>\n",
              "      <th>title</th>\n",
              "      <th>description</th>\n",
              "      <th>location</th>\n",
              "      <th>work_type</th>\n",
              "    </tr>\n",
              "  </thead>\n",
              "  <tbody>\n",
              "    <tr>\n",
              "      <th>0</th>\n",
              "      <td>Licensed Insurance Agent</td>\n",
              "      <td>While many industries were hurt by the last fe...</td>\n",
              "      <td>Chico, CA</td>\n",
              "      <td>FULL_TIME</td>\n",
              "    </tr>\n",
              "    <tr>\n",
              "      <th>1</th>\n",
              "      <td>Sales Manager</td>\n",
              "      <td>Are you a dynamic and creative marketing profe...</td>\n",
              "      <td>Santa Clarita, CA</td>\n",
              "      <td>FULL_TIME</td>\n",
              "    </tr>\n",
              "    <tr>\n",
              "      <th>2</th>\n",
              "      <td>Model Risk Auditor</td>\n",
              "      <td>Join Us as a Model Risk Auditor – Showcase You...</td>\n",
              "      <td>New York, NY</td>\n",
              "      <td>CONTRACT</td>\n",
              "    </tr>\n",
              "    <tr>\n",
              "      <th>3</th>\n",
              "      <td>Business Manager</td>\n",
              "      <td>Business ManagerFirst Baptist Church ForneyFor...</td>\n",
              "      <td>Forney, TX</td>\n",
              "      <td>FULL_TIME</td>\n",
              "    </tr>\n",
              "    <tr>\n",
              "      <th>4</th>\n",
              "      <td>NY Studio Assistant</td>\n",
              "      <td>YOU COULD BE ONE OF THE MAGIC MAKERS\\nKen Fulk...</td>\n",
              "      <td>New York, NY</td>\n",
              "      <td>FULL_TIME</td>\n",
              "    </tr>\n",
              "    <tr>\n",
              "      <th>...</th>\n",
              "      <td>...</td>\n",
              "      <td>...</td>\n",
              "      <td>...</td>\n",
              "      <td>...</td>\n",
              "    </tr>\n",
              "    <tr>\n",
              "      <th>495</th>\n",
              "      <td>Electrical Engineer - P&amp;C Design</td>\n",
              "      <td>Job Description:Role: Electrical Engineer - P&amp;...</td>\n",
              "      <td>United States</td>\n",
              "      <td>FULL_TIME</td>\n",
              "    </tr>\n",
              "    <tr>\n",
              "      <th>496</th>\n",
              "      <td>Editor</td>\n",
              "      <td>Role : Editor Remote Description: The Spotify ...</td>\n",
              "      <td>New York, NY</td>\n",
              "      <td>CONTRACT</td>\n",
              "    </tr>\n",
              "    <tr>\n",
              "      <th>497</th>\n",
              "      <td>Spiritual Care Coordinator</td>\n",
              "      <td>Coordinates spiritual, emotional and psycholog...</td>\n",
              "      <td>Fremont, OH</td>\n",
              "      <td>FULL_TIME</td>\n",
              "    </tr>\n",
              "    <tr>\n",
              "      <th>498</th>\n",
              "      <td>Supply Chain Intern</td>\n",
              "      <td>Learn and assist with all activities associate...</td>\n",
              "      <td>Fort Wayne, IN</td>\n",
              "      <td>INTERNSHIP</td>\n",
              "    </tr>\n",
              "    <tr>\n",
              "      <th>499</th>\n",
              "      <td>Automotive Lead Quality Coordinator</td>\n",
              "      <td>Job DetailsDivision: Nucor Steel BerkeleyLocat...</td>\n",
              "      <td>Huger, SC</td>\n",
              "      <td>FULL_TIME</td>\n",
              "    </tr>\n",
              "  </tbody>\n",
              "</table>\n",
              "<p>500 rows × 4 columns</p>\n",
              "</div>"
            ],
            "text/plain": [
              "                                   title  \\\n",
              "0               Licensed Insurance Agent   \n",
              "1                          Sales Manager   \n",
              "2                     Model Risk Auditor   \n",
              "3                       Business Manager   \n",
              "4                    NY Studio Assistant   \n",
              "..                                   ...   \n",
              "495     Electrical Engineer - P&C Design   \n",
              "496                               Editor   \n",
              "497           Spiritual Care Coordinator   \n",
              "498                  Supply Chain Intern   \n",
              "499  Automotive Lead Quality Coordinator   \n",
              "\n",
              "                                           description           location  \\\n",
              "0    While many industries were hurt by the last fe...          Chico, CA   \n",
              "1    Are you a dynamic and creative marketing profe...  Santa Clarita, CA   \n",
              "2    Join Us as a Model Risk Auditor – Showcase You...       New York, NY   \n",
              "3    Business ManagerFirst Baptist Church ForneyFor...         Forney, TX   \n",
              "4    YOU COULD BE ONE OF THE MAGIC MAKERS\\nKen Fulk...       New York, NY   \n",
              "..                                                 ...                ...   \n",
              "495  Job Description:Role: Electrical Engineer - P&...      United States   \n",
              "496  Role : Editor Remote Description: The Spotify ...       New York, NY   \n",
              "497  Coordinates spiritual, emotional and psycholog...        Fremont, OH   \n",
              "498  Learn and assist with all activities associate...     Fort Wayne, IN   \n",
              "499  Job DetailsDivision: Nucor Steel BerkeleyLocat...          Huger, SC   \n",
              "\n",
              "      work_type  \n",
              "0     FULL_TIME  \n",
              "1     FULL_TIME  \n",
              "2      CONTRACT  \n",
              "3     FULL_TIME  \n",
              "4     FULL_TIME  \n",
              "..          ...  \n",
              "495   FULL_TIME  \n",
              "496    CONTRACT  \n",
              "497   FULL_TIME  \n",
              "498  INTERNSHIP  \n",
              "499   FULL_TIME  \n",
              "\n",
              "[500 rows x 4 columns]"
            ]
          },
          "execution_count": 36,
          "metadata": {},
          "output_type": "execute_result"
        }
      ],
      "source": [
        "job_postings"
      ]
    },
    {
      "cell_type": "code",
      "execution_count": 37,
      "metadata": {
        "id": "ZlfhocAGU-gb"
      },
      "outputs": [],
      "source": [
        "# Load the MiniLM embedding model\n",
        "\n",
        "MiniLM_model_name = \"all-MiniLM-L6-v2\"\n",
        "MiniLM_model = SentenceTransformer(MiniLM_model_name)"
      ]
    },
    {
      "cell_type": "code",
      "execution_count": 38,
      "metadata": {
        "id": "OYXx_-5a-zFT"
      },
      "outputs": [],
      "source": [
        "# Load the QA embedding model\n",
        "\n",
        "QA_model_name = \"multi-qa-MiniLM-L6-cos-v1\"\n",
        "QA_model = SentenceTransformer(QA_model_name)"
      ]
    },
    {
      "cell_type": "markdown",
      "metadata": {
        "id": "rC2m5JtZgXtR"
      },
      "source": [
        "### Generate the Embeddings using both the Models"
      ]
    },
    {
      "cell_type": "code",
      "execution_count": 39,
      "metadata": {},
      "outputs": [],
      "source": [
        "# Function to generate embeddings for text\n",
        "def generate_embeddings(embedder, texts):\n",
        "    embeddings = embedder.encode(texts, convert_to_tensor=True)\n",
        "    return embeddings\n",
        "\n",
        "def generate_embeddings_on_df(embedder, embedder_name,  df):\n",
        "  df[f'Embeddings_{embedder_name}'] = df['description'].apply(lambda x: generate_embeddings(embedder, [x])[0])"
      ]
    },
    {
      "cell_type": "code",
      "execution_count": 40,
      "metadata": {
        "id": "i1NM8KFRZ4Ml"
      },
      "outputs": [],
      "source": [
        "# Generate the embeddings for all rows in the description column using the MiniLM embedding model\n",
        "generate_embeddings_on_df(MiniLM_model, \"MiniLM_model\",  job_postings)"
      ]
    },
    {
      "cell_type": "code",
      "execution_count": 41,
      "metadata": {
        "id": "HOwoNZ6QiHt_"
      },
      "outputs": [],
      "source": [
        "# Generate the embeddings for all rows in the description column using the QA embedding model\n",
        "generate_embeddings_on_df(QA_model, \"QA_model\",  job_postings)"
      ]
    },
    {
      "cell_type": "markdown",
      "metadata": {
        "id": "UvnufvbzgIK7"
      },
      "source": [
        "### Read the two queries\n",
        "\n",
        "* query_1: I am looking for a data engineer job that offers competitive pay\n",
        "* query_2: I want to work in UI design in the gaming industry"
      ]
    },
    {
      "cell_type": "code",
      "execution_count": 42,
      "metadata": {
        "id": "E-CFT0KQ_J3p"
      },
      "outputs": [],
      "source": [
        "query1 = \"I am looking for a data engineer job that offers competitive pay\"\n",
        "# input()"
      ]
    },
    {
      "cell_type": "code",
      "execution_count": 43,
      "metadata": {
        "id": "k1OsJiqVWS0X"
      },
      "outputs": [],
      "source": [
        "query2 = \"I want to work in UI design in the gaming industry\"\n",
        "# input()"
      ]
    },
    {
      "cell_type": "markdown",
      "metadata": {
        "id": "lAgv-JzMgrMY"
      },
      "source": [
        "### Generate Query Embeddings and Calculate Similarities - for both queries against both models"
      ]
    },
    {
      "cell_type": "code",
      "execution_count": 44,
      "metadata": {
        "id": "gpFCEMLZtHs8"
      },
      "outputs": [],
      "source": [
        "# Define the function for calculating cosine similarity\n",
        "\n",
        "def calculate_similarity(embedding1, embedding2):\n",
        "    cosine_score = util.pytorch_cos_sim(embedding1, embedding2)\n",
        "    # Convert the result to a Python float\n",
        "    similarity = cosine_score.item()\n",
        "\n",
        "    return similarity\n"
      ]
    },
    {
      "cell_type": "code",
      "execution_count": 45,
      "metadata": {
        "id": "7keetCQaAVU1"
      },
      "outputs": [],
      "source": [
        "\n",
        "\n",
        "# Function to perform semantic search and return ranked chunks\n",
        "def semantic_search(user_query, df, embedder, embedder_name):\n",
        "\n",
        "    # Calculate the query embedding\n",
        "    query_embedding = embedder.encode(user_query, convert_to_tensor=True)\n",
        "\n",
        "    # Calculate similarity scores between the query embedding and all chunk embeddings\n",
        "    df['Similarity'] = df[f'Embeddings_{embedder_name}'].apply(lambda x: calculate_similarity(query_embedding, x))\n",
        "\n",
        "    # Sort the DataFrame by similarity scores in descending order\n",
        "    df = df.sort_values(by='Similarity', ascending=False).reset_index(drop=True)\n",
        "\n",
        "    # Return only the top 3 values from the dataframe, and drop the embeddings column for a cleaner view of the final results\n",
        "    df = df.head(3)\n",
        "    # df.drop('Embeddings', axis = 1, inplace=True)\n",
        "\n",
        "    return df"
      ]
    },
    {
      "cell_type": "code",
      "execution_count": 46,
      "metadata": {
        "id": "DNikrbM2WpJ_"
      },
      "outputs": [],
      "source": [
        "# Calculate the query embedding for both queries using both models\n",
        "# Calculate similarity scores between the query embedding and all chunk embeddings for both queries using both models\n",
        "# Extract the top 3 results for both queries against both the embedding models\n",
        "#top_3_MiniLM_query1\n",
        "#top_3_QA_query1\n",
        "#top_3_MiniLM_query2\n",
        "#top_3_QA_query2"
      ]
    },
    {
      "cell_type": "code",
      "execution_count": 47,
      "metadata": {
        "id": "735jM54sCp_d"
      },
      "outputs": [
        {
          "data": {
            "text/html": [
              "<div>\n",
              "<style scoped>\n",
              "    .dataframe tbody tr th:only-of-type {\n",
              "        vertical-align: middle;\n",
              "    }\n",
              "\n",
              "    .dataframe tbody tr th {\n",
              "        vertical-align: top;\n",
              "    }\n",
              "\n",
              "    .dataframe thead th {\n",
              "        text-align: right;\n",
              "    }\n",
              "</style>\n",
              "<table border=\"1\" class=\"dataframe\">\n",
              "  <thead>\n",
              "    <tr style=\"text-align: right;\">\n",
              "      <th></th>\n",
              "      <th>title</th>\n",
              "      <th>description</th>\n",
              "      <th>location</th>\n",
              "      <th>work_type</th>\n",
              "      <th>Embeddings_MiniLM_model</th>\n",
              "      <th>Embeddings_QA_model</th>\n",
              "      <th>Similarity</th>\n",
              "    </tr>\n",
              "  </thead>\n",
              "  <tbody>\n",
              "    <tr>\n",
              "      <th>0</th>\n",
              "      <td>Data Engineer</td>\n",
              "      <td>Job Description:\\n• Design, develop, and launc...</td>\n",
              "      <td>United States</td>\n",
              "      <td>CONTRACT</td>\n",
              "      <td>[tensor(-0.0304, device='cuda:0'), tensor(0.03...</td>\n",
              "      <td>[tensor(-0.0350, device='cuda:0'), tensor(0.04...</td>\n",
              "      <td>0.529740</td>\n",
              "    </tr>\n",
              "    <tr>\n",
              "      <th>1</th>\n",
              "      <td>Azure Data Engineer</td>\n",
              "      <td>Need Genuine candidates who has solid experien...</td>\n",
              "      <td>United States</td>\n",
              "      <td>CONTRACT</td>\n",
              "      <td>[tensor(-0.0148, device='cuda:0'), tensor(-0.0...</td>\n",
              "      <td>[tensor(0.0092, device='cuda:0'), tensor(-0.05...</td>\n",
              "      <td>0.478422</td>\n",
              "    </tr>\n",
              "    <tr>\n",
              "      <th>2</th>\n",
              "      <td>Senior Data Engineer</td>\n",
              "      <td>Combine your technical expertise and problem-s...</td>\n",
              "      <td>Virginia, United States</td>\n",
              "      <td>FULL_TIME</td>\n",
              "      <td>[tensor(-0.0201, device='cuda:0'), tensor(0.00...</td>\n",
              "      <td>[tensor(-0.0178, device='cuda:0'), tensor(0.00...</td>\n",
              "      <td>0.449332</td>\n",
              "    </tr>\n",
              "  </tbody>\n",
              "</table>\n",
              "</div>"
            ],
            "text/plain": [
              "                  title                                        description  \\\n",
              "0         Data Engineer  Job Description:\\n• Design, develop, and launc...   \n",
              "1   Azure Data Engineer  Need Genuine candidates who has solid experien...   \n",
              "2  Senior Data Engineer  Combine your technical expertise and problem-s...   \n",
              "\n",
              "                  location  work_type  \\\n",
              "0            United States   CONTRACT   \n",
              "1            United States   CONTRACT   \n",
              "2  Virginia, United States  FULL_TIME   \n",
              "\n",
              "                             Embeddings_MiniLM_model  \\\n",
              "0  [tensor(-0.0304, device='cuda:0'), tensor(0.03...   \n",
              "1  [tensor(-0.0148, device='cuda:0'), tensor(-0.0...   \n",
              "2  [tensor(-0.0201, device='cuda:0'), tensor(0.00...   \n",
              "\n",
              "                                 Embeddings_QA_model  Similarity  \n",
              "0  [tensor(-0.0350, device='cuda:0'), tensor(0.04...    0.529740  \n",
              "1  [tensor(0.0092, device='cuda:0'), tensor(-0.05...    0.478422  \n",
              "2  [tensor(-0.0178, device='cuda:0'), tensor(0.00...    0.449332  "
            ]
          },
          "execution_count": 47,
          "metadata": {},
          "output_type": "execute_result"
        }
      ],
      "source": [
        "semantic_search(query1, job_postings, MiniLM_model, \"MiniLM_model\")\n"
      ]
    },
    {
      "cell_type": "code",
      "execution_count": 48,
      "metadata": {},
      "outputs": [
        {
          "data": {
            "text/html": [
              "<div>\n",
              "<style scoped>\n",
              "    .dataframe tbody tr th:only-of-type {\n",
              "        vertical-align: middle;\n",
              "    }\n",
              "\n",
              "    .dataframe tbody tr th {\n",
              "        vertical-align: top;\n",
              "    }\n",
              "\n",
              "    .dataframe thead th {\n",
              "        text-align: right;\n",
              "    }\n",
              "</style>\n",
              "<table border=\"1\" class=\"dataframe\">\n",
              "  <thead>\n",
              "    <tr style=\"text-align: right;\">\n",
              "      <th></th>\n",
              "      <th>title</th>\n",
              "      <th>description</th>\n",
              "      <th>location</th>\n",
              "      <th>work_type</th>\n",
              "      <th>Embeddings_MiniLM_model</th>\n",
              "      <th>Embeddings_QA_model</th>\n",
              "      <th>Similarity</th>\n",
              "    </tr>\n",
              "  </thead>\n",
              "  <tbody>\n",
              "    <tr>\n",
              "      <th>0</th>\n",
              "      <td>Data Engineer</td>\n",
              "      <td>Job Description:\\n• Design, develop, and launc...</td>\n",
              "      <td>United States</td>\n",
              "      <td>CONTRACT</td>\n",
              "      <td>[tensor(-0.0304, device='cuda:0'), tensor(0.03...</td>\n",
              "      <td>[tensor(-0.0350, device='cuda:0'), tensor(0.04...</td>\n",
              "      <td>0.543093</td>\n",
              "    </tr>\n",
              "    <tr>\n",
              "      <th>1</th>\n",
              "      <td>Data Scientist/ Product Analyst</td>\n",
              "      <td>Looking for candidates with 4+ years’ experien...</td>\n",
              "      <td>San Francisco, CA</td>\n",
              "      <td>CONTRACT</td>\n",
              "      <td>[tensor(0.0009, device='cuda:0'), tensor(-0.05...</td>\n",
              "      <td>[tensor(0.0243, device='cuda:0'), tensor(0.012...</td>\n",
              "      <td>0.462681</td>\n",
              "    </tr>\n",
              "    <tr>\n",
              "      <th>2</th>\n",
              "      <td>Assistant to Sales Director</td>\n",
              "      <td>Please send resume with salary requirements an...</td>\n",
              "      <td>Chicago, IL</td>\n",
              "      <td>FULL_TIME</td>\n",
              "      <td>[tensor(-0.1007, device='cuda:0'), tensor(-0.0...</td>\n",
              "      <td>[tensor(-0.0475, device='cuda:0'), tensor(-0.0...</td>\n",
              "      <td>0.416805</td>\n",
              "    </tr>\n",
              "  </tbody>\n",
              "</table>\n",
              "</div>"
            ],
            "text/plain": [
              "                             title  \\\n",
              "0                    Data Engineer   \n",
              "1  Data Scientist/ Product Analyst   \n",
              "2      Assistant to Sales Director   \n",
              "\n",
              "                                         description           location  \\\n",
              "0  Job Description:\\n• Design, develop, and launc...      United States   \n",
              "1  Looking for candidates with 4+ years’ experien...  San Francisco, CA   \n",
              "2  Please send resume with salary requirements an...        Chicago, IL   \n",
              "\n",
              "   work_type                            Embeddings_MiniLM_model  \\\n",
              "0   CONTRACT  [tensor(-0.0304, device='cuda:0'), tensor(0.03...   \n",
              "1   CONTRACT  [tensor(0.0009, device='cuda:0'), tensor(-0.05...   \n",
              "2  FULL_TIME  [tensor(-0.1007, device='cuda:0'), tensor(-0.0...   \n",
              "\n",
              "                                 Embeddings_QA_model  Similarity  \n",
              "0  [tensor(-0.0350, device='cuda:0'), tensor(0.04...    0.543093  \n",
              "1  [tensor(0.0243, device='cuda:0'), tensor(0.012...    0.462681  \n",
              "2  [tensor(-0.0475, device='cuda:0'), tensor(-0.0...    0.416805  "
            ]
          },
          "execution_count": 48,
          "metadata": {},
          "output_type": "execute_result"
        }
      ],
      "source": [
        "semantic_search(query1, job_postings, QA_model, \"QA_model\")"
      ]
    },
    {
      "cell_type": "code",
      "execution_count": 49,
      "metadata": {},
      "outputs": [
        {
          "data": {
            "text/html": [
              "<div>\n",
              "<style scoped>\n",
              "    .dataframe tbody tr th:only-of-type {\n",
              "        vertical-align: middle;\n",
              "    }\n",
              "\n",
              "    .dataframe tbody tr th {\n",
              "        vertical-align: top;\n",
              "    }\n",
              "\n",
              "    .dataframe thead th {\n",
              "        text-align: right;\n",
              "    }\n",
              "</style>\n",
              "<table border=\"1\" class=\"dataframe\">\n",
              "  <thead>\n",
              "    <tr style=\"text-align: right;\">\n",
              "      <th></th>\n",
              "      <th>title</th>\n",
              "      <th>description</th>\n",
              "      <th>location</th>\n",
              "      <th>work_type</th>\n",
              "      <th>Embeddings_MiniLM_model</th>\n",
              "      <th>Embeddings_QA_model</th>\n",
              "      <th>Similarity</th>\n",
              "    </tr>\n",
              "  </thead>\n",
              "  <tbody>\n",
              "    <tr>\n",
              "      <th>0</th>\n",
              "      <td>UX Designer/Architect-Plano TX and Columbus OH...</td>\n",
              "      <td>Our client is looking for UX Designer.\\nLocati...</td>\n",
              "      <td>Plano, TX</td>\n",
              "      <td>CONTRACT</td>\n",
              "      <td>[tensor(0.0440, device='cuda:0'), tensor(0.014...</td>\n",
              "      <td>[tensor(0.0026, device='cuda:0'), tensor(0.020...</td>\n",
              "      <td>0.472885</td>\n",
              "    </tr>\n",
              "    <tr>\n",
              "      <th>1</th>\n",
              "      <td>Software Engineer- Graphics Designer</td>\n",
              "      <td>Job Description\\nExperience with C/C++ program...</td>\n",
              "      <td>United States</td>\n",
              "      <td>FULL_TIME</td>\n",
              "      <td>[tensor(-0.1053, device='cuda:0'), tensor(0.01...</td>\n",
              "      <td>[tensor(-0.0668, device='cuda:0'), tensor(-0.0...</td>\n",
              "      <td>0.412720</td>\n",
              "    </tr>\n",
              "    <tr>\n",
              "      <th>2</th>\n",
              "      <td>NY Studio Assistant</td>\n",
              "      <td>YOU COULD BE ONE OF THE MAGIC MAKERS\\nKen Fulk...</td>\n",
              "      <td>New York, NY</td>\n",
              "      <td>FULL_TIME</td>\n",
              "      <td>[tensor(0.0196, device='cuda:0'), tensor(-0.13...</td>\n",
              "      <td>[tensor(0.0156, device='cuda:0'), tensor(-0.06...</td>\n",
              "      <td>0.398065</td>\n",
              "    </tr>\n",
              "  </tbody>\n",
              "</table>\n",
              "</div>"
            ],
            "text/plain": [
              "                                               title  \\\n",
              "0  UX Designer/Architect-Plano TX and Columbus OH...   \n",
              "1               Software Engineer- Graphics Designer   \n",
              "2                                NY Studio Assistant   \n",
              "\n",
              "                                         description       location  \\\n",
              "0  Our client is looking for UX Designer.\\nLocati...      Plano, TX   \n",
              "1  Job Description\\nExperience with C/C++ program...  United States   \n",
              "2  YOU COULD BE ONE OF THE MAGIC MAKERS\\nKen Fulk...   New York, NY   \n",
              "\n",
              "   work_type                            Embeddings_MiniLM_model  \\\n",
              "0   CONTRACT  [tensor(0.0440, device='cuda:0'), tensor(0.014...   \n",
              "1  FULL_TIME  [tensor(-0.1053, device='cuda:0'), tensor(0.01...   \n",
              "2  FULL_TIME  [tensor(0.0196, device='cuda:0'), tensor(-0.13...   \n",
              "\n",
              "                                 Embeddings_QA_model  Similarity  \n",
              "0  [tensor(0.0026, device='cuda:0'), tensor(0.020...    0.472885  \n",
              "1  [tensor(-0.0668, device='cuda:0'), tensor(-0.0...    0.412720  \n",
              "2  [tensor(0.0156, device='cuda:0'), tensor(-0.06...    0.398065  "
            ]
          },
          "execution_count": 49,
          "metadata": {},
          "output_type": "execute_result"
        }
      ],
      "source": [
        "semantic_search(query2, job_postings, MiniLM_model, \"MiniLM_model\")"
      ]
    },
    {
      "cell_type": "code",
      "execution_count": 50,
      "metadata": {},
      "outputs": [
        {
          "data": {
            "text/html": [
              "<div>\n",
              "<style scoped>\n",
              "    .dataframe tbody tr th:only-of-type {\n",
              "        vertical-align: middle;\n",
              "    }\n",
              "\n",
              "    .dataframe tbody tr th {\n",
              "        vertical-align: top;\n",
              "    }\n",
              "\n",
              "    .dataframe thead th {\n",
              "        text-align: right;\n",
              "    }\n",
              "</style>\n",
              "<table border=\"1\" class=\"dataframe\">\n",
              "  <thead>\n",
              "    <tr style=\"text-align: right;\">\n",
              "      <th></th>\n",
              "      <th>title</th>\n",
              "      <th>description</th>\n",
              "      <th>location</th>\n",
              "      <th>work_type</th>\n",
              "      <th>Embeddings_MiniLM_model</th>\n",
              "      <th>Embeddings_QA_model</th>\n",
              "      <th>Similarity</th>\n",
              "    </tr>\n",
              "  </thead>\n",
              "  <tbody>\n",
              "    <tr>\n",
              "      <th>0</th>\n",
              "      <td>Lead Game Designer</td>\n",
              "      <td>Position: Lead Game DesignerLocation: Remote W...</td>\n",
              "      <td>United States</td>\n",
              "      <td>FULL_TIME</td>\n",
              "      <td>[tensor(0.0055, device='cuda:0'), tensor(-0.00...</td>\n",
              "      <td>[tensor(-0.0034, device='cuda:0'), tensor(0.02...</td>\n",
              "      <td>0.532436</td>\n",
              "    </tr>\n",
              "    <tr>\n",
              "      <th>1</th>\n",
              "      <td>Head of Visual Design Operating Systems</td>\n",
              "      <td>STEALTH GAMING OPERATING SYSTEM. \\nWe are a ve...</td>\n",
              "      <td>United States</td>\n",
              "      <td>FULL_TIME</td>\n",
              "      <td>[tensor(-0.0058, device='cuda:0'), tensor(-0.0...</td>\n",
              "      <td>[tensor(-0.0337, device='cuda:0'), tensor(-0.0...</td>\n",
              "      <td>0.519795</td>\n",
              "    </tr>\n",
              "    <tr>\n",
              "      <th>2</th>\n",
              "      <td>Sr. AV Designer</td>\n",
              "      <td>ABOUT THE POSITION\\nAs a Senior AV Designer, y...</td>\n",
              "      <td>West Valley City, UT</td>\n",
              "      <td>FULL_TIME</td>\n",
              "      <td>[tensor(-0.0371, device='cuda:0'), tensor(0.06...</td>\n",
              "      <td>[tensor(0.0251, device='cuda:0'), tensor(0.061...</td>\n",
              "      <td>0.432891</td>\n",
              "    </tr>\n",
              "  </tbody>\n",
              "</table>\n",
              "</div>"
            ],
            "text/plain": [
              "                                     title  \\\n",
              "0                       Lead Game Designer   \n",
              "1  Head of Visual Design Operating Systems   \n",
              "2                          Sr. AV Designer   \n",
              "\n",
              "                                         description              location  \\\n",
              "0  Position: Lead Game DesignerLocation: Remote W...         United States   \n",
              "1  STEALTH GAMING OPERATING SYSTEM. \\nWe are a ve...         United States   \n",
              "2  ABOUT THE POSITION\\nAs a Senior AV Designer, y...  West Valley City, UT   \n",
              "\n",
              "   work_type                            Embeddings_MiniLM_model  \\\n",
              "0  FULL_TIME  [tensor(0.0055, device='cuda:0'), tensor(-0.00...   \n",
              "1  FULL_TIME  [tensor(-0.0058, device='cuda:0'), tensor(-0.0...   \n",
              "2  FULL_TIME  [tensor(-0.0371, device='cuda:0'), tensor(0.06...   \n",
              "\n",
              "                                 Embeddings_QA_model  Similarity  \n",
              "0  [tensor(-0.0034, device='cuda:0'), tensor(0.02...    0.532436  \n",
              "1  [tensor(-0.0337, device='cuda:0'), tensor(-0.0...    0.519795  \n",
              "2  [tensor(0.0251, device='cuda:0'), tensor(0.061...    0.432891  "
            ]
          },
          "execution_count": 50,
          "metadata": {},
          "output_type": "execute_result"
        }
      ],
      "source": [
        "semantic_search(query2, job_postings, QA_model, \"QA_model\")"
      ]
    }
  ],
  "metadata": {
    "colab": {
      "provenance": []
    },
    "kernelspec": {
      "display_name": "Python 3",
      "name": "python3"
    },
    "language_info": {
      "codemirror_mode": {
        "name": "ipython",
        "version": 3
      },
      "file_extension": ".py",
      "mimetype": "text/x-python",
      "name": "python",
      "nbconvert_exporter": "python",
      "pygments_lexer": "ipython3",
      "version": "3.10.11"
    }
  },
  "nbformat": 4,
  "nbformat_minor": 0
}
